{
 "cells": [
  {
   "cell_type": "code",
   "execution_count": 1,
   "metadata": {},
   "outputs": [],
   "source": [
    "import pandas as pd\n",
    "import numpy as np\n",
    "import matplotlib.pyplot as plt\n",
    "import os.path\n",
    "\n",
    "from preprocessing.logParser import openLogs"
   ]
  },
  {
   "cell_type": "code",
   "execution_count": 2,
   "metadata": {},
   "outputs": [],
   "source": [
    "BASE_DIR = os.path.abspath('test_statistics.ipynb')\n",
    "BASE_DIR = os.path.dirname(BASE_DIR)\n",
    "BASE_DIR = BASE_DIR + '/spbu_ACADRU_spring_2018-TL'\n",
    "cursor = openLogs(BASE_DIR)"
   ]
  },
  {
   "cell_type": "markdown",
   "metadata": {},
   "source": [
    "Описания таблиц и полей:\n",
    "https://docs.google.com/document/d/12AQyASm_m0lV-aJQNmTCzIbfO2hj49unslcWMaxXjWY/edit# \n",
    "\n",
    "problem_check\n",
    "cursor.executescript(\"\"\"\n",
    "        DROP TABLE IF EXISTS problem_check;\n",
    "        CREATE TABLE problem_check \n",
    "        (\n",
    "            user_id INT\n",
    "            ,course_name varchar(300) \n",
    "            ,execute_time varchar(100)\n",
    "            ,page varchar(300)\n",
    "            ,questions varchar(2000)\n",
    "            ,grade real\n",
    "            ,max_grade real\n",
    "        )\n",
    "    \"\"\")\n",
    "\n",
    "\n",
    "     problem_events = [\"edx.problem.hint.demandhint_displayed\", \"edx.problem.hint.feedback_displayed\", \"problem_check\",\n",
    "                      \"problem_check_fail\", \"problem_graded\", \"problem_rescore\", \"problem_rescore_fail\",\n",
    "                      \"problem_reset\", \"problem_save\", \"problem_show\", \"reset_problem\", \"reset_problem_fail\",\n",
    "                      \"save_problem_fail\", \"save_problem_success\", \"showanswer\"]\n",
    "                      \n",
    "https://docs.google.com/document/d/12AQyASm_m0lV-aJQNmTCzIbfO2hj49unslcWMaxXjWY/edit# "
   ]
  },
  {
   "cell_type": "code",
   "execution_count": 3,
   "metadata": {},
   "outputs": [
    {
     "ename": "OperationalError",
     "evalue": "no such column: attempts",
     "output_type": "error",
     "traceback": [
      "\u001b[0;31m---------------------------------------------------------------------------\u001b[0m",
      "\u001b[0;31mOperationalError\u001b[0m                          Traceback (most recent call last)",
      "\u001b[0;32m<ipython-input-3-d8ba4f7b6fc2>\u001b[0m in \u001b[0;36m<module>\u001b[0;34m\u001b[0m\n\u001b[1;32m     10\u001b[0m         \u001b[0;32mand\u001b[0m \u001b[0mattempts\u001b[0m \u001b[0;34m<\u001b[0m \u001b[0;36m4\u001b[0m\u001b[0;34m\u001b[0m\u001b[0m\n\u001b[1;32m     11\u001b[0m         \"\"\".format(\"https://courses.openedu.ru/courses/course-v1:spbu+ACADRU+spring_2018/courseware/b434df438c2045eba63afc089d64b3de/244a81ebf8a64b609cd8587bbe18edc5/\")\n\u001b[0;32m---> 12\u001b[0;31m \u001b[0mcursor\u001b[0m\u001b[0;34m.\u001b[0m\u001b[0mexecute\u001b[0m\u001b[0;34m(\u001b[0m\u001b[0mrequest\u001b[0m\u001b[0;34m)\u001b[0m\u001b[0;34m\u001b[0m\u001b[0m\n\u001b[0m\u001b[1;32m     13\u001b[0m \u001b[0mdata\u001b[0m \u001b[0;34m=\u001b[0m \u001b[0mcursor\u001b[0m\u001b[0;34m.\u001b[0m\u001b[0mfetchall\u001b[0m\u001b[0;34m(\u001b[0m\u001b[0;34m)\u001b[0m\u001b[0;34m\u001b[0m\u001b[0m\n\u001b[1;32m     14\u001b[0m \u001b[0;34m\u001b[0m\u001b[0m\n",
      "\u001b[0;31mOperationalError\u001b[0m: no such column: attempts"
     ]
    }
   ],
   "source": [
    "#and questions NOT LIKE '__' means that we needn't questions like {}\n",
    "#and attempts < 4 means that we use only three first attempts, jthers attempts are not interesting\n",
    "request = \"\"\"\n",
    "        select \n",
    "        user_id, attempts, questions,\n",
    "        page, grade, max_grade\n",
    "        from problem_check\n",
    "        where course_name = \"course-v1:spbu+ACADRU+spring_2018\"\n",
    "        and questions NOT LIKE '__'\n",
    "        and attempts < 4\n",
    "        \"\"\".format(\"https://courses.openedu.ru/courses/course-v1:spbu+ACADRU+spring_2018/courseware/b434df438c2045eba63afc089d64b3de/244a81ebf8a64b609cd8587bbe18edc5/\")\n",
    "cursor.execute(request)\n",
    "data = cursor.fetchall()\n",
    "\n",
    "columns_names = []\n",
    "for i in cursor.description[:]:\n",
    "    columns_names.append(i[0])\n",
    "\n",
    "df = pd.DataFrame(data=data, columns=columns_names)"
   ]
  },
  {
   "cell_type": "markdown",
   "metadata": {},
   "source": [
    "### модуль тестов, пункт 1 a: (средний результат за тест)\n",
    "подумать, что с page "
   ]
  },
  {
   "cell_type": "code",
   "execution_count": null,
   "metadata": {},
   "outputs": [],
   "source": [
    "listForAverage=pd.DataFrame(columns=('page','questions','attempts','grade','max_grade'))"
   ]
  },
  {
   "cell_type": "code",
   "execution_count": null,
   "metadata": {},
   "outputs": [],
   "source": [
    "listForAverage=df.sort_values(by=['questions','attempts'])"
   ]
  },
  {
   "cell_type": "code",
   "execution_count": null,
   "metadata": {},
   "outputs": [],
   "source": [
    "print(listForAverage)"
   ]
  },
  {
   "cell_type": "code",
   "execution_count": null,
   "metadata": {},
   "outputs": [],
   "source": [
    "average=pd.DataFrame(columns=('page','test','attempt','average_grade','max_grade'))"
   ]
  },
  {
   "cell_type": "code",
   "execution_count": null,
   "metadata": {},
   "outputs": [],
   "source": [
    "currentTest=''\n",
    "for row in listForAverage.itertuples():\n",
    "    if not currentTest:\n",
    "        currentTest=row.questions\n",
    "        currentAttempt=row.attempts\n",
    "        gradeCounter=0\n",
    "        numOfSolutions=0\n",
    "        \n",
    "    if currentTest==row.questions:\n",
    "        if currentAttempt==row.attempts:\n",
    "            gradeCounter=gradeCounter+row.grade\n",
    "            numOfSolutions=numOfSolutions+1\n",
    "        else:\n",
    "            average=average.append({'page':row.page,'test':currentTest,'attempt':currentAttempt,'average_grade':gradeCounter/numOfSolutions,'max_grade':row.max_grade},ignore_index=True)            \n",
    "            gradeCounter=0\n",
    "            numOfSolutions=0\n",
    "            currentAttempt=row.attempts\n",
    "    else:\n",
    "        average=average.append({'page':row.page,'test':currentTest,'attempt':currentAttempt,'average_grade':gradeCounter/numOfSolutions,'max_grade':row.max_grade},ignore_index=True)            \n",
    "        gradeCounter=0\n",
    "        numOfSolutions=0\n",
    "        currentAttempt=row.attempts\n",
    "        currentTest=row.questions     "
   ]
  },
  {
   "cell_type": "code",
   "execution_count": null,
   "metadata": {},
   "outputs": [],
   "source": [
    "print(average)"
   ]
  },
  {
   "cell_type": "markdown",
   "metadata": {},
   "source": [
    "### модуль тестов, пункт 1 с: (процент правильных ответов на вопрос)"
   ]
  },
  {
   "cell_type": "code",
   "execution_count": null,
   "metadata": {},
   "outputs": [],
   "source": [
    "#parsing of questions string in two columns: question and result\n",
    "listForQuestions=pd.DataFrame(columns=('question','attempt','user_id','result'))\n",
    "\n",
    "for rowCounter in range(df.shape[0]):\n",
    "    currentAttempt=df.attempts[rowCounter]\n",
    "    currentUser=df.user_id[rowCounter]\n",
    "    row=(df.questions[rowCounter][1:-1]).split(',')\n",
    "    for cellRow in row:\n",
    "        tmprow=cellRow.split(':')\n",
    "        if tmprow[1]=='True':\n",
    "            listForQuestions=listForQuestions.append({'question':tmprow[0],'attempt':currentAttempt,'user_id':currentUser,'result':1}, ignore_index=True)\n",
    "        else:\n",
    "            listForQuestions=listForQuestions.append({'question':tmprow[0],'attempt':currentAttempt,'user_id':currentUser,'result':0}, ignore_index=True)\n"
   ]
  },
  {
   "cell_type": "code",
   "execution_count": null,
   "metadata": {},
   "outputs": [],
   "source": [
    "listForQuestions['question'] = listForQuestions['question'].map(str.strip)\n",
    "listForQuestions=listForQuestions.sort_values(by=['question','attempt','user_id'])"
   ]
  },
  {
   "cell_type": "code",
   "execution_count": null,
   "metadata": {},
   "outputs": [],
   "source": [
    "percentage=pd.DataFrame(columns=('question','attempt','numOfAnswers','percentageOfRightAnswers'))"
   ]
  },
  {
   "cell_type": "code",
   "execution_count": null,
   "metadata": {},
   "outputs": [],
   "source": [
    "currentQuestion=''\n",
    "for row in listForQuestions.itertuples():\n",
    "    if not currentQuestion:\n",
    "        currentQuestion=row.question\n",
    "        currentAttempt=row.attempt\n",
    "        tmpUsersList=pd.DataFrame(columns=('user_id','result'))\n",
    "    \n",
    "    prevAttempt=currentAttempt\n",
    "    currentAttempt=row.attempt   \n",
    "    prevQuestion=currentQuestion\n",
    "    currentQuestion=row.question   \n",
    "    \n",
    "    if prevQuestion==currentQuestion :        \n",
    "        if prevAttempt==currentAttempt :\n",
    "            if currentAttempt==1:\n",
    "                tmpUsersList=tmpUsersList.append({'user_id':row.user_id,'result':row.result}, ignore_index=True)\n",
    "            else:\n",
    "                for user in tmpUsersList:\n",
    "                    if user==row.user_id:\n",
    "                        user.result=row.result #updating result for new attempt\n",
    "        else:\n",
    "            percentage=percentage.append({'question':prevQuestion,'attempt':prevAttempt,'numOfAnswers':tmpUsersList.shape[0],'percentageOfRightAnswers':100*(((tmpUsersList.result).sum())/tmpUsersList.shape[0])},ignore_index=True)            \n",
    "    else:        \n",
    "        percentage=percentage.append({'question':prevQuestion,'attempt':prevAttempt,'numOfAnswers':tmpUsersList.shape[0],'percentageOfRightAnswers':100*(((tmpUsersList.result).sum())/tmpUsersList.shape[0])},ignore_index=True)\n",
    "        tmpUsersList=pd.DataFrame(columns=('user_id','result')) \n",
    "        tmpUsersList=tmpUsersList.append({'user_id':row.user_id,'result':row.result}, ignore_index=True)"
   ]
  },
  {
   "cell_type": "code",
   "execution_count": null,
   "metadata": {},
   "outputs": [],
   "source": [
    "print(percentage)"
   ]
  }
 ],
 "metadata": {
  "kernelspec": {
   "display_name": "Python 3",
   "language": "python",
   "name": "python3"
  },
  "language_info": {
   "codemirror_mode": {
    "name": "ipython",
    "version": 3
   },
   "file_extension": ".py",
   "mimetype": "text/x-python",
   "name": "python",
   "nbconvert_exporter": "python",
   "pygments_lexer": "ipython3",
   "version": "3.6.6"
  }
 },
 "nbformat": 4,
 "nbformat_minor": 2
}
