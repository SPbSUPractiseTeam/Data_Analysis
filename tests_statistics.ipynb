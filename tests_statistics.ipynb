{
 "cells": [
  {
   "cell_type": "code",
   "execution_count": 1,
   "metadata": {},
   "outputs": [],
   "source": [
    "import pandas as pd\n",
    "import numpy as np\n",
    "import matplotlib.pyplot as plt\n",
    "\n",
    "from preprocessing.logParser import openLogs"
   ]
  },
  {
   "cell_type": "code",
   "execution_count": 2,
   "metadata": {},
   "outputs": [],
   "source": [
    "cursor = openLogs('logs/spbu_ACADRU_spring_2018-TL')"
   ]
  },
  {
   "cell_type": "markdown",
   "metadata": {},
   "source": [
    "Описания таблиц и полей:\n",
    "https://docs.google.com/document/d/12AQyASm_m0lV-aJQNmTCzIbfO2hj49unslcWMaxXjWY/edit# \n",
    "\n",
    "problem_check\n",
    "cursor.executescript(\"\"\"\n",
    "        DROP TABLE IF EXISTS problem_check;\n",
    "        CREATE TABLE problem_check \n",
    "        (\n",
    "            user_id INT\n",
    "            ,course_name varchar(300)\n",
    "            ,execute_time varchar(100)\n",
    "            ,page varchar(300)\n",
    "            ,questions varchar(2000)\n",
    "            ,grade real\n",
    "            ,max_grade real\n",
    "        )\n",
    "    \"\"\")\n",
    "\n",
    "\n",
    "     problem_events = [\"edx.problem.hint.demandhint_displayed\", \"edx.problem.hint.feedback_displayed\", \"problem_check\",\n",
    "                      \"problem_check_fail\", \"problem_graded\", \"problem_rescore\", \"problem_rescore_fail\",\n",
    "                      \"problem_reset\", \"problem_save\", \"problem_show\", \"reset_problem\", \"reset_problem_fail\",\n",
    "                      \"save_problem_fail\", \"save_problem_success\", \"showanswer\"]\n",
    "                      \n",
    "https://docs.google.com/document/d/12AQyASm_m0lV-aJQNmTCzIbfO2hj49unslcWMaxXjWY/edit# "
   ]
  },
  {
   "cell_type": "code",
   "execution_count": 3,
   "metadata": {},
   "outputs": [],
   "source": [
    "#this request is for counting percentage (for each question) of people who succesfully passed a question (for each attempt)\n",
    "#attempts, \n",
    "request = \"\"\"\n",
    "        select \n",
    "        user_id,         \n",
    "        questions\n",
    "        from problem_check\n",
    "        where course_name = \"course-v1:spbu+ACADRU+spring_2018\"\n",
    "        and questions NOT LIKE '__'        \n",
    "        \"\"\".format(\"https://courses.openedu.ru/courses/course-v1:spbu+ACADRU+spring_2018/courseware/b434df438c2045eba63afc089d64b3de/244a81ebf8a64b609cd8587bbe18edc5/\")\n",
    "cursor.execute(request)\n",
    "data = cursor.fetchall()\n",
    "\n",
    "columns_names = []\n",
    "for i in cursor.description[:]:\n",
    "    columns_names.append(i[0])\n",
    "\n",
    "df = pd.DataFrame(data=data, columns=columns_names)\n",
    "#df\n"
   ]
  },
  {
   "cell_type": "code",
   "execution_count": 4,
   "metadata": {},
   "outputs": [
    {
     "name": "stdout",
     "output_type": "stream",
     "text": [
      "   user_id                                          questions\n",
      "0   594202  {  \"1dbdb694e1d84dd7b65d91eec160daa8_3_1\":True...\n",
      "1   594187  {  \"1dbdb694e1d84dd7b65d91eec160daa8_3_1\":True...\n",
      "2   594202  {  \"1dbdb694e1d84dd7b65d91eec160daa8_3_1\":True...\n",
      "3   594187  {  \"b518db6fac834edea93e013d2e458987_3_1\":True...\n",
      "4   594202  {  \"b518db6fac834edea93e013d2e458987_3_1\":True...\n"
     ]
    }
   ],
   "source": [
    "print(df.head())"
   ]
  },
  {
   "cell_type": "code",
   "execution_count": 5,
   "metadata": {},
   "outputs": [],
   "source": [
    "#parsing of questions string in dataframe to t\n",
    "list=pd.DataFrame(columns=('question','result'))\n",
    "\n",
    "for row in df.loc[:,'questions']:\n",
    "    row=(row[1:-1]).split(',')\n",
    "    for cellRow in row:\n",
    "        tmprow=cellRow.split(':')\n",
    "        if tmprow[1]=='True':\n",
    "            list=list.append(pd.DataFrame([[tmprow[0], 1]], columns=('question','result')))\n",
    "        else:\n",
    "            list=list.append(pd.DataFrame([[tmprow[0], 0]], columns=('question','result')))\n"
   ]
  },
  {
   "cell_type": "code",
   "execution_count": 6,
   "metadata": {},
   "outputs": [
    {
     "name": "stdout",
     "output_type": "stream",
     "text": [
      "                                   question result\n",
      "0    \"1dbdb694e1d84dd7b65d91eec160daa8_3_1\"      1\n",
      "0    \"1dbdb694e1d84dd7b65d91eec160daa8_8_1\"      0\n",
      "0    \"1dbdb694e1d84dd7b65d91eec160daa8_4_1\"      1\n",
      "0   \"1dbdb694e1d84dd7b65d91eec160daa8_10_1\"      1\n",
      "0    \"1dbdb694e1d84dd7b65d91eec160daa8_6_1\"      1\n"
     ]
    }
   ],
   "source": [
    "print(list.head())"
   ]
  },
  {
   "cell_type": "code",
   "execution_count": null,
   "metadata": {},
   "outputs": [],
   "source": []
  }
 ],
 "metadata": {
  "kernelspec": {
   "display_name": "Python 3",
   "language": "python",
   "name": "python3"
  },
  "language_info": {
   "codemirror_mode": {
    "name": "ipython",
    "version": 3
   },
   "file_extension": ".py",
   "mimetype": "text/x-python",
   "name": "python",
   "nbconvert_exporter": "python",
   "pygments_lexer": "ipython3",
   "version": "3.6.6"
  }
 },
 "nbformat": 4,
 "nbformat_minor": 2
}
