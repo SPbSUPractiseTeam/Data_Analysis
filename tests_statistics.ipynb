{
 "cells": [
  {
   "cell_type": "code",
   "execution_count": 1,
   "metadata": {},
   "outputs": [],
   "source": [
    "import json\n",
    "import os.path\n",
    "import pandas as pd\n",
    "import numpy as np\n",
    "from preprocessing.logParser import openLogs"
   ]
  },
  {
   "cell_type": "code",
   "execution_count": 2,
   "metadata": {},
   "outputs": [],
   "source": [
    "#path to event logs\n",
    "BASE_DIR = os.path.abspath('test_statistics.ipynb')\n",
    "BASE_DIR = os.path.dirname(BASE_DIR)\n",
    "BASE_DIR = BASE_DIR + '/spbu_ACADRU_spring_2018-TL'\n",
    "cursor = openLogs(BASE_DIR)"
   ]
  },
  {
   "cell_type": "code",
   "execution_count": 3,
   "metadata": {},
   "outputs": [],
   "source": [
    "#and questions NOT LIKE '__' means that we needn't questions like {}\n",
    "#and attempts < 4 means that we use only three first attempts, other attempts are not interesting\n",
    "request = \"\"\"\n",
    "        select \n",
    "        course_name, problem_id,\n",
    "        attempts, questions,\n",
    "        page, grade, max_grade\n",
    "        from problem_check\n",
    "        where course_name = \"course-v1:spbu+ACADRU+spring_2018\"\n",
    "        and questions NOT LIKE '__'\n",
    "        and attempts < 4\n",
    "        \"\"\".format(\"https://courses.openedu.ru/courses/course-v1:spbu+ACADRU+spring_2018/courseware/b434df438c2045eba63afc089d64b3de/244a81ebf8a64b609cd8587bbe18edc5/\")\n",
    "cursor.execute(request)\n",
    "data = cursor.fetchall()\n",
    "\n",
    "columns_names = []\n",
    "for i in cursor.description[:]:\n",
    "    columns_names.append(i[0])\n",
    "\n",
    "df = pd.DataFrame(data=data, columns=columns_names)"
   ]
  },
  {
   "cell_type": "code",
   "execution_count": 4,
   "metadata": {},
   "outputs": [],
   "source": [
    "#chanding refer link\n",
    "df['page']= df['page'].apply(lambda x: x.split('/handler')[0])\n",
    "df['problem_id']= df['problem_id'].apply(lambda x: x.split('@')[-1])"
   ]
  },
  {
   "cell_type": "markdown",
   "metadata": {},
   "source": [
    "### модуль тестов, пункт 1 a: (средний результат за тест и медиана)"
   ]
  },
  {
   "cell_type": "code",
   "execution_count": 5,
   "metadata": {},
   "outputs": [],
   "source": [
    "#calculating: average grade, median of grade, number of answers on test\n",
    "avg=df.groupby(['course_name','problem_id','page','attempts','max_grade'])['grade'].agg([np.mean, np.median, np.size])\n",
    "avg=avg.reset_index()"
   ]
  },
  {
   "cell_type": "code",
   "execution_count": 6,
   "metadata": {},
   "outputs": [],
   "source": [
    "avg = avg.rename(columns={'size': 'number_of_solutions'})"
   ]
  },
  {
   "cell_type": "markdown",
   "metadata": {},
   "source": [
    "### модуль тестов, пункт 1 с: (процент правильных ответов на вопрос)"
   ]
  },
  {
   "cell_type": "code",
   "execution_count": 7,
   "metadata": {},
   "outputs": [],
   "source": [
    "#parsing questions string in two columns: question and result\n",
    "listForQuestions=pd.DataFrame(columns=('course_name','problem_id','page','question','attempts','result','max_grade'))\n",
    "\n",
    "for rowCounter in range(df.shape[0]):\n",
    "    currentAttempt=df.attempts[rowCounter]\n",
    "    currentPage=df.page[rowCounter]\n",
    "    currentCourse=df.course_name[rowCounter]\n",
    "    currentGrade=df.max_grade[rowCounter]\n",
    "    currentProblem=df.problem_id[rowCounter]\n",
    "    \n",
    "    row=(df.questions[rowCounter][1:-1]).split(',')\n",
    "    for cellRow in row:\n",
    "        tmprow=cellRow.split(':')\n",
    "        if tmprow[1]=='True':\n",
    "            listForQuestions=listForQuestions.append({'course_name':currentCourse,'problem_id':currentProblem,'page':currentPage,'question':tmprow[0],'attempts':currentAttempt,'result':1,'max_grade':currentGrade}, ignore_index=True)\n",
    "        else:\n",
    "            listForQuestions=listForQuestions.append({'course_name':currentCourse,'problem_id':currentProblem,'page':currentPage,'question':tmprow[0],'attempts':currentAttempt,'result':0,'max_grade':currentGrade}, ignore_index=True)\n"
   ]
  },
  {
   "cell_type": "code",
   "execution_count": 8,
   "metadata": {},
   "outputs": [],
   "source": [
    "listForQuestions['question'] = listForQuestions['question'].map(str.strip) #deleting spaces\n",
    "listForQuestions['question']=listForQuestions['question'].apply(lambda x: ('\"'+x.split('_')[-2] + '_' + x.split('_')[-1]))"
   ]
  },
  {
   "cell_type": "code",
   "execution_count": 9,
   "metadata": {},
   "outputs": [],
   "source": [
    "#calculating: sum of grades on question and number of answers on question\n",
    "perc=listForQuestions.groupby(['course_name','problem_id','page', 'attempts','max_grade','question'])['result'].agg([np.sum , np.size])"
   ]
  },
  {
   "cell_type": "code",
   "execution_count": 10,
   "metadata": {},
   "outputs": [],
   "source": [
    "#calcilating percentage of right answers on each question\n",
    "perc=100*perc['sum']/perc['size']\n",
    "perc=perc.reset_index()"
   ]
  },
  {
   "cell_type": "code",
   "execution_count": 11,
   "metadata": {},
   "outputs": [],
   "source": [
    "#merge questions and percentage of right answers\n",
    "perc['questions'] = perc['question'].map(str) +':' +perc[0].map(str)\n",
    "perc=perc.drop(columns=['question', 0])"
   ]
  },
  {
   "cell_type": "code",
   "execution_count": 12,
   "metadata": {},
   "outputs": [],
   "source": [
    "#merge questions in test\n",
    "perc=perc.groupby(['course_name','problem_id','page','attempts','max_grade'])['questions'].apply(','.join).reset_index()\n",
    "perc['questions']='{ ' + perc['questions'] +'}'"
   ]
  },
  {
   "cell_type": "markdown",
   "metadata": {},
   "source": [
    "### Output"
   ]
  },
  {
   "cell_type": "code",
   "execution_count": 13,
   "metadata": {},
   "outputs": [],
   "source": [
    "#merge results of analysis (average and percentade) into one table\n",
    "res=pd.merge(avg, perc, on=['course_name','problem_id','page','attempts','max_grade'], how='outer')"
   ]
  },
  {
   "cell_type": "code",
   "execution_count": 14,
   "metadata": {},
   "outputs": [],
   "source": [
    "course_name=(res['course_name'][0]+ '_test_statistics.json').replace('+', '_').split(':')[1]"
   ]
  },
  {
   "cell_type": "code",
   "execution_count": 15,
   "metadata": {},
   "outputs": [],
   "source": [
    "#writing json file\n",
    "with open(course_name, 'w') as data_file:\n",
    "    json.dump(res.to_json(orient='records'), data_file, indent=2)"
   ]
  }
 ],
 "metadata": {
  "kernelspec": {
   "display_name": "Python 3",
   "language": "python",
   "name": "python3"
  },
  "language_info": {
   "codemirror_mode": {
    "name": "ipython",
    "version": 3
   },
   "file_extension": ".py",
   "mimetype": "text/x-python",
   "name": "python",
   "nbconvert_exporter": "python",
   "pygments_lexer": "ipython3",
   "version": "3.7.0"
  }
 },
 "nbformat": 4,
 "nbformat_minor": 2
}
