{
 "cells": [
  {
   "cell_type": "code",
   "execution_count": 1,
   "metadata": {},
   "outputs": [],
   "source": [
    "import json\n",
    "import os.path\n",
    "import pandas as pd\n",
    "from preprocessing.logParser import openLogs"
   ]
  },
  {
   "cell_type": "code",
   "execution_count": 2,
   "metadata": {},
   "outputs": [],
   "source": [
    "BASE_DIR = os.path.abspath('test_statistics.ipynb')\n",
    "BASE_DIR = os.path.dirname(BASE_DIR)\n",
    "BASE_DIR = BASE_DIR + '/spbu_ACADRU_spring_2018-TL'\n",
    "cursor = openLogs(BASE_DIR)"
   ]
  },
  {
   "cell_type": "code",
   "execution_count": 3,
   "metadata": {},
   "outputs": [],
   "source": [
    "#and questions NOT LIKE '__' means that we needn't questions like {}\n",
    "#and attempts < 4 means that we use only three first attempts, other attempts are not interesting\n",
    "request = \"\"\"\n",
    "        select \n",
    "        user_id, attempts, questions,\n",
    "        page, grade, max_grade\n",
    "        from problem_check\n",
    "        where course_name = \"course-v1:spbu+ACADRU+spring_2018\"\n",
    "        and questions NOT LIKE '__'\n",
    "        and attempts < 4\n",
    "        \"\"\".format(\"https://courses.openedu.ru/courses/course-v1:spbu+ACADRU+spring_2018/courseware/b434df438c2045eba63afc089d64b3de/244a81ebf8a64b609cd8587bbe18edc5/\")\n",
    "cursor.execute(request)\n",
    "data = cursor.fetchall()\n",
    "\n",
    "columns_names = []\n",
    "for i in cursor.description[:]:\n",
    "    columns_names.append(i[0])\n",
    "\n",
    "df = pd.DataFrame(data=data, columns=columns_names)"
   ]
  },
  {
   "cell_type": "markdown",
   "metadata": {},
   "source": [
    "### модуль тестов, пункт 1 a: (средний результат за тест)"
   ]
  },
  {
   "cell_type": "code",
   "execution_count": 4,
   "metadata": {},
   "outputs": [],
   "source": [
    "listForAverage=df.sort_values(by=['page','attempts'])"
   ]
  },
  {
   "cell_type": "code",
   "execution_count": null,
   "metadata": {},
   "outputs": [],
   "source": [
    "average=pd.DataFrame(columns=('page','attempt','average_grade','max_grade','numOfSolutions'))"
   ]
  },
  {
   "cell_type": "code",
   "execution_count": null,
   "metadata": {},
   "outputs": [],
   "source": [
    "prevTest=''\n",
    "for row in listForAverage.itertuples():\n",
    "    if not prevTest:\n",
    "        prevTest=row.page\n",
    "        prevAttempt=row.attempts\n",
    "        prevMaxGrade=row.max_grade\n",
    "        gradeCounter=0\n",
    "        numOfSolutions=0\n",
    "\n",
    "    if prevTest==row.page:\n",
    "        if prevAttempt==row.attempts:            \n",
    "            gradeCounter=gradeCounter+row.grade\n",
    "            numOfSolutions=numOfSolutions+1\n",
    "        else:\n",
    "            average=average.append({'page':row.page,'attempt':prevAttempt,'average_grade':gradeCounter/numOfSolutions,'max_grade':prevMaxGrade,'numOfSolutions':numOfSolutions},ignore_index=True)            \n",
    "            gradeCounter=row.grade\n",
    "            numOfSolutions=1\n",
    "            prevAttempt=row.attempts\n",
    "            prevMaxGrade=row.max_grade\n",
    "    else:        \n",
    "        average=average.append({'page':row.page,'attempt':prevAttempt,'average_grade':gradeCounter/numOfSolutions,'max_grade':prevMaxGrade,'numOfSolutions':numOfSolutions},ignore_index=True)            \n",
    "        gradeCounter=row.grade\n",
    "        numOfSolutions=1\n",
    "        prevAttempt=row.attempts\n",
    "        prevTest=row.page     \n",
    "        prevMaxGrade=row.max_grade"
   ]
  },
  {
   "cell_type": "code",
   "execution_count": null,
   "metadata": {},
   "outputs": [
    {
     "name": "stdout",
     "output_type": "stream",
     "text": [
      "                                                  page attempt  average_grade  \\\n",
      "0    block-v1:spbu+ACADRU+spring_2018+type@problem+...       1       0.666667   \n",
      "1    block-v1:spbu+ACADRU+spring_2018+type@problem+...       1       1.000000   \n",
      "2    block-v1:spbu+ACADRU+spring_2018+type@problem+...       1       0.000000   \n",
      "3    block-v1:spbu+ACADRU+spring_2018+type@problem+...       2       0.000000   \n",
      "4    block-v1:spbu+ACADRU+spring_2018+type@problem+...       1       9.739130   \n",
      "5    block-v1:spbu+ACADRU+spring_2018+type@problem+...       2      10.882353   \n",
      "6    block-v1:spbu+ACADRU+spring_2018+type@problem+...       1       6.826087   \n",
      "7    block-v1:spbu+ACADRU+spring_2018+type@problem+...       2       7.333333   \n",
      "8    block-v1:spbu+ACADRU+spring_2018+type@problem+...       1       1.000000   \n",
      "9    block-v1:spbu+ACADRU+spring_2018+type@problem+...       1       6.904762   \n",
      "10   block-v1:spbu+ACADRU+spring_2018+type@problem+...       2       8.470588   \n",
      "11   block-v1:spbu+ACADRU+spring_2018+type@problem+...       3       8.125000   \n",
      "12   block-v1:spbu+ACADRU+spring_2018+type@problem+...       1       0.666667   \n",
      "13   block-v1:spbu+ACADRU+spring_2018+type@problem+...       2       0.000000   \n",
      "14   block-v1:spbu+ACADRU+spring_2018+type@problem+...       3       1.000000   \n",
      "15   block-v1:spbu+ACADRU+spring_2018+type@problem+...       1       0.666667   \n",
      "16   block-v1:spbu+ACADRU+spring_2018+type@problem+...       1       6.200000   \n",
      "17   block-v1:spbu+ACADRU+spring_2018+type@problem+...       2       6.800000   \n",
      "18   block-v1:spbu+ACADRU+spring_2018+type@problem+...       1       8.736842   \n",
      "19   block-v1:spbu+ACADRU+spring_2018+type@problem+...       2       9.000000   \n",
      "20   block-v1:spbu+ACADRU+spring_2018+type@problem+...       3       8.777778   \n",
      "21   block-v1:spbu+ACADRU+spring_2018+type@problem+...       1       0.666667   \n",
      "22   block-v1:spbu+ACADRU+spring_2018+type@problem+...       1       5.153846   \n",
      "23   block-v1:spbu+ACADRU+spring_2018+type@problem+...       2       6.416667   \n",
      "24   block-v1:spbu+ACADRU+spring_2018+type@problem+...       1       0.666667   \n",
      "25   block-v1:spbu+ACADRU+spring_2018+type@problem+...       2       0.000000   \n",
      "26   block-v1:spbu+ACADRU+spring_2018+type@problem+...       3       1.000000   \n",
      "27   block-v1:spbu+ACADRU+spring_2018+type@problem+...       1       2.900000   \n",
      "28   block-v1:spbu+ACADRU+spring_2018+type@problem+...       2       5.285714   \n",
      "29   block-v1:spbu+ACADRU+spring_2018+type@problem+...       3       5.800000   \n",
      "..                                                 ...     ...            ...   \n",
      "83   block-v1:spbu+ACADRU+spring_2018+type@problem+...       1       2.571429   \n",
      "84   block-v1:spbu+ACADRU+spring_2018+type@problem+...       2       3.166667   \n",
      "85   block-v1:spbu+ACADRU+spring_2018+type@problem+...       3       3.875000   \n",
      "86   block-v1:spbu+ACADRU+spring_2018+type@problem+...       1       1.000000   \n",
      "87   block-v1:spbu+ACADRU+spring_2018+type@problem+...       1       0.500000   \n",
      "88   block-v1:spbu+ACADRU+spring_2018+type@problem+...       2       1.000000   \n",
      "89   block-v1:spbu+ACADRU+spring_2018+type@problem+...       1       1.000000   \n",
      "90   block-v1:spbu+ACADRU+spring_2018+type@problem+...       1       0.666667   \n",
      "91   block-v1:spbu+ACADRU+spring_2018+type@problem+...       2       1.000000   \n",
      "92   block-v1:spbu+ACADRU+spring_2018+type@problem+...       1       0.500000   \n",
      "93   block-v1:spbu+ACADRU+spring_2018+type@problem+...       1       1.000000   \n",
      "94   block-v1:spbu+ACADRU+spring_2018+type@problem+...       1       1.000000   \n",
      "95   block-v1:spbu+ACADRU+spring_2018+type@problem+...       1       1.000000   \n",
      "96   block-v1:spbu+ACADRU+spring_2018+type@problem+...       1       1.000000   \n",
      "97   block-v1:spbu+ACADRU+spring_2018+type@problem+...       1       1.000000   \n",
      "98   block-v1:spbu+ACADRU+spring_2018+type@problem+...       1       0.666667   \n",
      "99   block-v1:spbu+ACADRU+spring_2018+type@problem+...       1       1.000000   \n",
      "100  block-v1:spbu+ACADRU+spring_2018+type@problem+...       1       2.571429   \n",
      "101  block-v1:spbu+ACADRU+spring_2018+type@problem+...       2       3.285714   \n",
      "102  block-v1:spbu+ACADRU+spring_2018+type@problem+...       3       3.250000   \n",
      "103  block-v1:spbu+ACADRU+spring_2018+type@problem+...       1       1.000000   \n",
      "104  block-v1:spbu+ACADRU+spring_2018+type@problem+...       1       2.421053   \n",
      "105  block-v1:spbu+ACADRU+spring_2018+type@problem+...       2       3.200000   \n",
      "106  block-v1:spbu+ACADRU+spring_2018+type@problem+...       3       3.857143   \n",
      "107  block-v1:spbu+ACADRU+spring_2018+type@problem+...       1       1.000000   \n",
      "108  block-v1:spbu+ACADRU+spring_2018+type@problem+...       1       0.000000   \n",
      "109  block-v1:spbu+ACADRU+spring_2018+type@problem+...       1       0.000000   \n",
      "110  block-v1:spbu+ACADRU+spring_2018+type@problem+...       1       5.461538   \n",
      "111  block-v1:spbu+ACADRU+spring_2018+type@problem+...       2       6.181818   \n",
      "112  block-v1:spbu+ACADRU+spring_2018+type@problem+...       1       1.000000   \n",
      "\n",
      "     max_grade numOfSolutions  \n",
      "0          1.0              3  \n",
      "1          1.0              2  \n",
      "2          2.0              1  \n",
      "3          2.0              1  \n",
      "4         14.0             23  \n",
      "5         14.0             17  \n",
      "6          8.0             23  \n",
      "7          8.0             12  \n",
      "8          1.0              1  \n",
      "9          9.0             21  \n",
      "10         9.0             17  \n",
      "11         9.0              8  \n",
      "12         1.0              3  \n",
      "13         1.0              1  \n",
      "14         1.0              1  \n",
      "15         1.0              3  \n",
      "16         7.0             20  \n",
      "17         7.0             15  \n",
      "18        12.0             19  \n",
      "19        12.0             13  \n",
      "20        12.0              9  \n",
      "21         1.0              3  \n",
      "22         8.0             13  \n",
      "23         8.0             12  \n",
      "24         1.0              3  \n",
      "25         1.0              1  \n",
      "26         1.0              1  \n",
      "27         6.0             10  \n",
      "28         6.0              7  \n",
      "29         6.0              5  \n",
      "..         ...            ...  \n",
      "83         4.0             21  \n",
      "84         4.0             12  \n",
      "85         4.0              8  \n",
      "86         1.0              1  \n",
      "87         1.0              2  \n",
      "88         1.0              1  \n",
      "89         1.0              2  \n",
      "90         1.0              3  \n",
      "91         1.0              1  \n",
      "92         1.0              2  \n",
      "93         1.0              2  \n",
      "94         1.0              3  \n",
      "95         1.0              2  \n",
      "96         1.0              3  \n",
      "97         1.0              1  \n",
      "98         1.0              3  \n",
      "99         1.0              1  \n",
      "100        4.0              7  \n",
      "101        4.0              7  \n",
      "102        4.0              4  \n",
      "103        1.0              2  \n",
      "104        4.0             19  \n",
      "105        4.0             10  \n",
      "106        4.0              7  \n",
      "107        1.0              3  \n",
      "108        1.0              1  \n",
      "109        1.0              1  \n",
      "110        8.0             13  \n",
      "111        8.0             11  \n",
      "112        1.0              3  \n",
      "\n",
      "[113 rows x 5 columns]\n"
     ]
    }
   ],
   "source": [
    "print(average)"
   ]
  },
  {
   "cell_type": "code",
   "execution_count": null,
   "metadata": {},
   "outputs": [],
   "source": [
    "average=average.to_json(orient='records')"
   ]
  },
  {
   "cell_type": "code",
   "execution_count": null,
   "metadata": {},
   "outputs": [
    {
     "name": "stdout",
     "output_type": "stream",
     "text": [
      "[{\"page\":\"block-v1:spbu+ACADRU+spring_2018+type@problem+block@08944f89f5a69eb0f3d9\",\"attempt\":1,\"average_grade\":0.6666666667,\"max_grade\":1.0,\"numOfSolutions\":3},{\"page\":\"block-v1:spbu+ACADRU+spring_2018+type@problem+block@0c2e896b3e86420d854609b41ffb7229\",\"attempt\":1,\"average_grade\":1.0,\"max_grade\":1.0,\"numOfSolutions\":2},{\"page\":\"block-v1:spbu+ACADRU+spring_2018+type@problem+block@0c2e896b3e86420d854609b41ffb7229\",\"attempt\":1,\"average_grade\":0.0,\"max_grade\":2.0,\"numOfSolutions\":1},{\"page\":\"block-v1:spbu+ACADRU+spring_2018+type@problem+block@0cb4a601e614492a8c2df8a7d024a012\",\"attempt\":2,\"average_grade\":0.0,\"max_grade\":2.0,\"numOfSolutions\":1},{\"page\":\"block-v1:spbu+ACADRU+spring_2018+type@problem+block@0cb4a601e614492a8c2df8a7d024a012\",\"attempt\":1,\"average_grade\":9.7391304348,\"max_grade\":14.0,\"numOfSolutions\":23},{\"page\":\"block-v1:spbu+ACADRU+spring_2018+type@problem+block@172408b80f6c43a0b8bebc1848b4808d\",\"attempt\":2,\"average_grade\":10.8823529412,\"max_grade\":14.0,\"numOfSolutions\":17},{\"page\":\"block-v1:spbu+ACADRU+spring_2018+type@problem+block@172408b80f6c43a0b8bebc1848b4808d\",\"attempt\":1,\"average_grade\":6.8260869565,\"max_grade\":8.0,\"numOfSolutions\":23},{\"page\":\"block-v1:spbu+ACADRU+spring_2018+type@problem+block@1a3d8fb432db63dff760\",\"attempt\":2,\"average_grade\":7.3333333333,\"max_grade\":8.0,\"numOfSolutions\":12},{\"page\":\"block-v1:spbu+ACADRU+spring_2018+type@problem+block@1dbdb694e1d84dd7b65d91eec160daa8\",\"attempt\":1,\"average_grade\":1.0,\"max_grade\":1.0,\"numOfSolutions\":1},{\"page\":\"block-v1:spbu+ACADRU+spring_2018+type@problem+block@1dbdb694e1d84dd7b65d91eec160daa8\",\"attempt\":1,\"average_grade\":6.9047619048,\"max_grade\":9.0,\"numOfSolutions\":21},{\"page\":\"block-v1:spbu+ACADRU+spring_2018+type@problem+block@1dbdb694e1d84dd7b65d91eec160daa8\",\"attempt\":2,\"average_grade\":8.4705882353,\"max_grade\":9.0,\"numOfSolutions\":17},{\"page\":\"block-v1:spbu+ACADRU+spring_2018+type@problem+block@27e046d99db86c5feafb\",\"attempt\":3,\"average_grade\":8.125,\"max_grade\":9.0,\"numOfSolutions\":8},{\"page\":\"block-v1:spbu+ACADRU+spring_2018+type@problem+block@27e046d99db86c5feafb\",\"attempt\":1,\"average_grade\":0.6666666667,\"max_grade\":1.0,\"numOfSolutions\":3},{\"page\":\"block-v1:spbu+ACADRU+spring_2018+type@problem+block@27e046d99db86c5feafb\",\"attempt\":2,\"average_grade\":0.0,\"max_grade\":1.0,\"numOfSolutions\":1},{\"page\":\"block-v1:spbu+ACADRU+spring_2018+type@problem+block@2af4f47599962d56b87d\",\"attempt\":3,\"average_grade\":1.0,\"max_grade\":1.0,\"numOfSolutions\":1},{\"page\":\"block-v1:spbu+ACADRU+spring_2018+type@problem+block@2f459072f5854312a76140b434fc94de\",\"attempt\":1,\"average_grade\":0.6666666667,\"max_grade\":1.0,\"numOfSolutions\":3},{\"page\":\"block-v1:spbu+ACADRU+spring_2018+type@problem+block@2f459072f5854312a76140b434fc94de\",\"attempt\":1,\"average_grade\":6.2,\"max_grade\":7.0,\"numOfSolutions\":20},{\"page\":\"block-v1:spbu+ACADRU+spring_2018+type@problem+block@30a4ff09ed4241348cb641115c9873c4\",\"attempt\":2,\"average_grade\":6.8,\"max_grade\":7.0,\"numOfSolutions\":15},{\"page\":\"block-v1:spbu+ACADRU+spring_2018+type@problem+block@30a4ff09ed4241348cb641115c9873c4\",\"attempt\":1,\"average_grade\":8.7368421053,\"max_grade\":12.0,\"numOfSolutions\":19},{\"page\":\"block-v1:spbu+ACADRU+spring_2018+type@problem+block@30a4ff09ed4241348cb641115c9873c4\",\"attempt\":2,\"average_grade\":9.0,\"max_grade\":12.0,\"numOfSolutions\":13},{\"page\":\"block-v1:spbu+ACADRU+spring_2018+type@problem+block@31bff40cc69b74479168\",\"attempt\":3,\"average_grade\":8.7777777778,\"max_grade\":12.0,\"numOfSolutions\":9},{\"page\":\"block-v1:spbu+ACADRU+spring_2018+type@problem+block@412ddf24c65d43bd92e825b080cdb505\",\"attempt\":1,\"average_grade\":0.6666666667,\"max_grade\":1.0,\"numOfSolutions\":3},{\"page\":\"block-v1:spbu+ACADRU+spring_2018+type@problem+block@412ddf24c65d43bd92e825b080cdb505\",\"attempt\":1,\"average_grade\":5.1538461538,\"max_grade\":8.0,\"numOfSolutions\":13},{\"page\":\"block-v1:spbu+ACADRU+spring_2018+type@problem+block@4273b9b99305776f74fa\",\"attempt\":2,\"average_grade\":6.4166666667,\"max_grade\":8.0,\"numOfSolutions\":12},{\"page\":\"block-v1:spbu+ACADRU+spring_2018+type@problem+block@4273b9b99305776f74fa\",\"attempt\":1,\"average_grade\":0.6666666667,\"max_grade\":1.0,\"numOfSolutions\":3},{\"page\":\"block-v1:spbu+ACADRU+spring_2018+type@problem+block@4273b9b99305776f74fa\",\"attempt\":2,\"average_grade\":0.0,\"max_grade\":1.0,\"numOfSolutions\":1},{\"page\":\"block-v1:spbu+ACADRU+spring_2018+type@problem+block@45d781e514c5459293b9fd0cb03ba3ce\",\"attempt\":3,\"average_grade\":1.0,\"max_grade\":1.0,\"numOfSolutions\":1},{\"page\":\"block-v1:spbu+ACADRU+spring_2018+type@problem+block@45d781e514c5459293b9fd0cb03ba3ce\",\"attempt\":1,\"average_grade\":2.9,\"max_grade\":6.0,\"numOfSolutions\":10},{\"page\":\"block-v1:spbu+ACADRU+spring_2018+type@problem+block@45d781e514c5459293b9fd0cb03ba3ce\",\"attempt\":2,\"average_grade\":5.2857142857,\"max_grade\":6.0,\"numOfSolutions\":7},{\"page\":\"block-v1:spbu+ACADRU+spring_2018+type@problem+block@4b6ee6189a034c7f8bdeb96a58086302\",\"attempt\":3,\"average_grade\":5.8,\"max_grade\":6.0,\"numOfSolutions\":5},{\"page\":\"block-v1:spbu+ACADRU+spring_2018+type@problem+block@4b6ee6189a034c7f8bdeb96a58086302\",\"attempt\":1,\"average_grade\":3.3636363636,\"max_grade\":5.0,\"numOfSolutions\":11},{\"page\":\"block-v1:spbu+ACADRU+spring_2018+type@problem+block@4b6ee6189a034c7f8bdeb96a58086302\",\"attempt\":2,\"average_grade\":4.125,\"max_grade\":5.0,\"numOfSolutions\":8},{\"page\":\"block-v1:spbu+ACADRU+spring_2018+type@problem+block@4ff8643ae65619edfd7e\",\"attempt\":3,\"average_grade\":4.0,\"max_grade\":5.0,\"numOfSolutions\":3},{\"page\":\"block-v1:spbu+ACADRU+spring_2018+type@problem+block@5405907c2c5e977fed1c\",\"attempt\":1,\"average_grade\":1.0,\"max_grade\":1.0,\"numOfSolutions\":3},{\"page\":\"block-v1:spbu+ACADRU+spring_2018+type@problem+block@5b17126c582234fd1437\",\"attempt\":1,\"average_grade\":0.6666666667,\"max_grade\":1.0,\"numOfSolutions\":3},{\"page\":\"block-v1:spbu+ACADRU+spring_2018+type@problem+block@5b17126c582234fd1437\",\"attempt\":1,\"average_grade\":0.5,\"max_grade\":1.0,\"numOfSolutions\":2},{\"page\":\"block-v1:spbu+ACADRU+spring_2018+type@problem+block@5b17126c582234fd1437\",\"attempt\":2,\"average_grade\":0.0,\"max_grade\":1.0,\"numOfSolutions\":1},{\"page\":\"block-v1:spbu+ACADRU+spring_2018+type@problem+block@5b74821f8b654933c52b\",\"attempt\":3,\"average_grade\":0.0,\"max_grade\":1.0,\"numOfSolutions\":1},{\"page\":\"block-v1:spbu+ACADRU+spring_2018+type@problem+block@5b74821f8b654933c52b\",\"attempt\":1,\"average_grade\":1.0,\"max_grade\":1.0,\"numOfSolutions\":3},{\"page\":\"block-v1:spbu+ACADRU+spring_2018+type@problem+block@5b74821f8b654933c52b\",\"attempt\":2,\"average_grade\":1.0,\"max_grade\":1.0,\"numOfSolutions\":1},{\"page\":\"block-v1:spbu+ACADRU+spring_2018+type@problem+block@668e1f146c5ba9c70234\",\"attempt\":3,\"average_grade\":1.0,\"max_grade\":1.0,\"numOfSolutions\":1},{\"page\":\"block-v1:spbu+ACADRU+spring_2018+type@problem+block@691f0d51e4128f84e472\",\"attempt\":1,\"average_grade\":0.6666666667,\"max_grade\":1.0,\"numOfSolutions\":3},{\"page\":\"block-v1:spbu+ACADRU+spring_2018+type@problem+block@698b791b89e907613994\",\"attempt\":1,\"average_grade\":1.0,\"max_grade\":1.0,\"numOfSolutions\":3},{\"page\":\"block-v1:spbu+ACADRU+spring_2018+type@problem+block@6bb421c6bb11befad3e9\",\"attempt\":1,\"average_grade\":0.6666666667,\"max_grade\":1.0,\"numOfSolutions\":3},{\"page\":\"block-v1:spbu+ACADRU+spring_2018+type@problem+block@6d57d09832aa6b9d2f8e\",\"attempt\":1,\"average_grade\":1.0,\"max_grade\":1.0,\"numOfSolutions\":2},{\"page\":\"block-v1:spbu+ACADRU+spring_2018+type@problem+block@79dc4c2ef0e3907e3341\",\"attempt\":1,\"average_grade\":1.0,\"max_grade\":1.0,\"numOfSolutions\":2},{\"page\":\"block-v1:spbu+ACADRU+spring_2018+type@problem+block@79dc4c2ef0e3907e3341\",\"attempt\":1,\"average_grade\":1.0,\"max_grade\":1.0,\"numOfSolutions\":3},{\"page\":\"block-v1:spbu+ACADRU+spring_2018+type@problem+block@7c837f57fa7942ca97a6447c2c77a020\",\"attempt\":2,\"average_grade\":1.0,\"max_grade\":1.0,\"numOfSolutions\":1},{\"page\":\"block-v1:spbu+ACADRU+spring_2018+type@problem+block@7c837f57fa7942ca97a6447c2c77a020\",\"attempt\":1,\"average_grade\":4.5416666667,\"max_grade\":7.0,\"numOfSolutions\":24},{\"page\":\"block-v1:spbu+ACADRU+spring_2018+type@problem+block@7cb2be2ff95c7328b36e\",\"attempt\":2,\"average_grade\":5.8571428571,\"max_grade\":7.0,\"numOfSolutions\":21},{\"page\":\"block-v1:spbu+ACADRU+spring_2018+type@problem+block@7d79ea8283a20994b62a\",\"attempt\":1,\"average_grade\":1.0,\"max_grade\":1.0,\"numOfSolutions\":2},{\"page\":\"block-v1:spbu+ACADRU+spring_2018+type@problem+block@7d79ea8283a20994b62a\",\"attempt\":1,\"average_grade\":0.3333333333,\"max_grade\":1.0,\"numOfSolutions\":3},{\"page\":\"block-v1:spbu+ACADRU+spring_2018+type@problem+block@7d79ea8283a20994b62a\",\"attempt\":2,\"average_grade\":0.0,\"max_grade\":1.0,\"numOfSolutions\":1},{\"page\":\"block-v1:spbu+ACADRU+spring_2018+type@problem+block@7d819b2369d4ef5848f4\",\"attempt\":3,\"average_grade\":1.0,\"max_grade\":1.0,\"numOfSolutions\":1},{\"page\":\"block-v1:spbu+ACADRU+spring_2018+type@problem+block@7f1c3106dc47097e08b2\",\"attempt\":1,\"average_grade\":1.0,\"max_grade\":1.0,\"numOfSolutions\":1},{\"page\":\"block-v1:spbu+ACADRU+spring_2018+type@problem+block@86856617cda518914bc7\",\"attempt\":1,\"average_grade\":1.0,\"max_grade\":1.0,\"numOfSolutions\":1},{\"page\":\"block-v1:spbu+ACADRU+spring_2018+type@problem+block@86ef86ce2177b0997dfb\",\"attempt\":1,\"average_grade\":1.0,\"max_grade\":1.0,\"numOfSolutions\":2},{\"page\":\"block-v1:spbu+ACADRU+spring_2018+type@problem+block@8a9eb208be30e5262726\",\"attempt\":1,\"average_grade\":1.0,\"max_grade\":1.0,\"numOfSolutions\":3},{\"page\":\"block-v1:spbu+ACADRU+spring_2018+type@problem+block@8bb47c53ec5a898e79f2\",\"attempt\":1,\"average_grade\":1.0,\"max_grade\":1.0,\"numOfSolutions\":2},{\"page\":\"block-v1:spbu+ACADRU+spring_2018+type@problem+block@8bbb4b71d687487e942bcfa0e6bbac90\",\"attempt\":1,\"average_grade\":0.6666666667,\"max_grade\":1.0,\"numOfSolutions\":3},{\"page\":\"block-v1:spbu+ACADRU+spring_2018+type@problem+block@8bbb4b71d687487e942bcfa0e6bbac90\",\"attempt\":1,\"average_grade\":4.380952381,\"max_grade\":6.0,\"numOfSolutions\":21},{\"page\":\"block-v1:spbu+ACADRU+spring_2018+type@problem+block@8bbb4b71d687487e942bcfa0e6bbac90\",\"attempt\":2,\"average_grade\":5.5714285714,\"max_grade\":6.0,\"numOfSolutions\":14},{\"page\":\"block-v1:spbu+ACADRU+spring_2018+type@problem+block@8f39e6e8a07836300db1\",\"attempt\":3,\"average_grade\":6.0,\"max_grade\":6.0,\"numOfSolutions\":7},{\"page\":\"block-v1:spbu+ACADRU+spring_2018+type@problem+block@8f39e6e8a07836300db1\",\"attempt\":1,\"average_grade\":0.0,\"max_grade\":1.0,\"numOfSolutions\":1},{\"page\":\"block-v1:spbu+ACADRU+spring_2018+type@problem+block@8f39e6e8a07836300db1\",\"attempt\":2,\"average_grade\":0.0,\"max_grade\":1.0,\"numOfSolutions\":1},{\"page\":\"block-v1:spbu+ACADRU+spring_2018+type@problem+block@9515fb175972c1a62bf9\",\"attempt\":3,\"average_grade\":0.0,\"max_grade\":1.0,\"numOfSolutions\":1},{\"page\":\"block-v1:spbu+ACADRU+spring_2018+type@problem+block@9c2cceb5a18ac6551b2c\",\"attempt\":1,\"average_grade\":1.0,\"max_grade\":1.0,\"numOfSolutions\":2},{\"page\":\"block-v1:spbu+ACADRU+spring_2018+type@problem+block@9d4872d4bec6962118b6\",\"attempt\":1,\"average_grade\":1.0,\"max_grade\":1.0,\"numOfSolutions\":2},{\"page\":\"block-v1:spbu+ACADRU+spring_2018+type@problem+block@a259bbebe82f479b82346a61c56b14b0\",\"attempt\":1,\"average_grade\":0.6666666667,\"max_grade\":1.0,\"numOfSolutions\":3},{\"page\":\"block-v1:spbu+ACADRU+spring_2018+type@problem+block@a259bbebe82f479b82346a61c56b14b0\",\"attempt\":1,\"average_grade\":7.5,\"max_grade\":12.0,\"numOfSolutions\":12},{\"page\":\"block-v1:spbu+ACADRU+spring_2018+type@problem+block@a4083a82517e6baad72c\",\"attempt\":2,\"average_grade\":10.2,\"max_grade\":12.0,\"numOfSolutions\":10},{\"page\":\"block-v1:spbu+ACADRU+spring_2018+type@problem+block@a4ac91b7971ae0854414\",\"attempt\":1,\"average_grade\":1.0,\"max_grade\":1.0,\"numOfSolutions\":3},{\"page\":\"block-v1:spbu+ACADRU+spring_2018+type@problem+block@b17446806c80ac9e2820\",\"attempt\":1,\"average_grade\":0.6666666667,\"max_grade\":1.0,\"numOfSolutions\":3},{\"page\":\"block-v1:spbu+ACADRU+spring_2018+type@problem+block@b4b01d6951d54268861b180b1b4ea348\",\"attempt\":1,\"average_grade\":1.0,\"max_grade\":1.0,\"numOfSolutions\":3},{\"page\":\"block-v1:spbu+ACADRU+spring_2018+type@problem+block@b4b01d6951d54268861b180b1b4ea348\",\"attempt\":1,\"average_grade\":5.1,\"max_grade\":9.0,\"numOfSolutions\":10},{\"page\":\"block-v1:spbu+ACADRU+spring_2018+type@problem+block@b4b01d6951d54268861b180b1b4ea348\",\"attempt\":2,\"average_grade\":7.1428571429,\"max_grade\":9.0,\"numOfSolutions\":7},{\"page\":\"block-v1:spbu+ACADRU+spring_2018+type@problem+block@b518db6fac834edea93e013d2e458987\",\"attempt\":3,\"average_grade\":8.0,\"max_grade\":9.0,\"numOfSolutions\":7},{\"page\":\"block-v1:spbu+ACADRU+spring_2018+type@problem+block@b518db6fac834edea93e013d2e458987\",\"attempt\":1,\"average_grade\":6.5789473684,\"max_grade\":10.0,\"numOfSolutions\":19},{\"page\":\"block-v1:spbu+ACADRU+spring_2018+type@problem+block@b518db6fac834edea93e013d2e458987\",\"attempt\":2,\"average_grade\":8.9333333333,\"max_grade\":10.0,\"numOfSolutions\":15},{\"page\":\"block-v1:spbu+ACADRU+spring_2018+type@problem+block@b52772076416e4f2ccb0\",\"attempt\":3,\"average_grade\":9.1428571429,\"max_grade\":10.0,\"numOfSolutions\":7},{\"page\":\"block-v1:spbu+ACADRU+spring_2018+type@problem+block@b6a2c53467d34c33beda2fb8975c13e3\",\"attempt\":1,\"average_grade\":1.0,\"max_grade\":1.0,\"numOfSolutions\":3},{\"page\":\"block-v1:spbu+ACADRU+spring_2018+type@problem+block@b6a2c53467d34c33beda2fb8975c13e3\",\"attempt\":1,\"average_grade\":4.5833333333,\"max_grade\":6.0,\"numOfSolutions\":12},{\"page\":\"block-v1:spbu+ACADRU+spring_2018+type@problem+block@c4a0851739734b819c2e7f6d188ba7a5\",\"attempt\":2,\"average_grade\":5.0,\"max_grade\":6.0,\"numOfSolutions\":8},{\"page\":\"block-v1:spbu+ACADRU+spring_2018+type@problem+block@c4a0851739734b819c2e7f6d188ba7a5\",\"attempt\":1,\"average_grade\":2.5714285714,\"max_grade\":4.0,\"numOfSolutions\":21},{\"page\":\"block-v1:spbu+ACADRU+spring_2018+type@problem+block@c4a0851739734b819c2e7f6d188ba7a5\",\"attempt\":2,\"average_grade\":3.1666666667,\"max_grade\":4.0,\"numOfSolutions\":12},{\"page\":\"block-v1:spbu+ACADRU+spring_2018+type@problem+block@ca413869a1a2e216b3dd\",\"attempt\":3,\"average_grade\":3.875,\"max_grade\":4.0,\"numOfSolutions\":8},{\"page\":\"block-v1:spbu+ACADRU+spring_2018+type@problem+block@cb4b73f36bc9bb442368\",\"attempt\":1,\"average_grade\":1.0,\"max_grade\":1.0,\"numOfSolutions\":1},{\"page\":\"block-v1:spbu+ACADRU+spring_2018+type@problem+block@cb4b73f36bc9bb442368\",\"attempt\":1,\"average_grade\":0.5,\"max_grade\":1.0,\"numOfSolutions\":2},{\"page\":\"block-v1:spbu+ACADRU+spring_2018+type@problem+block@cc0fd07bdc05003d617b\",\"attempt\":2,\"average_grade\":1.0,\"max_grade\":1.0,\"numOfSolutions\":1},{\"page\":\"block-v1:spbu+ACADRU+spring_2018+type@problem+block@cdeaa712269fcdfe7662\",\"attempt\":1,\"average_grade\":1.0,\"max_grade\":1.0,\"numOfSolutions\":2},{\"page\":\"block-v1:spbu+ACADRU+spring_2018+type@problem+block@cdeaa712269fcdfe7662\",\"attempt\":1,\"average_grade\":0.6666666667,\"max_grade\":1.0,\"numOfSolutions\":3},{\"page\":\"block-v1:spbu+ACADRU+spring_2018+type@problem+block@cf1a57c6869c583cedd0\",\"attempt\":2,\"average_grade\":1.0,\"max_grade\":1.0,\"numOfSolutions\":1},{\"page\":\"block-v1:spbu+ACADRU+spring_2018+type@problem+block@cfe472354a7f5c8e080a\",\"attempt\":1,\"average_grade\":0.5,\"max_grade\":1.0,\"numOfSolutions\":2},{\"page\":\"block-v1:spbu+ACADRU+spring_2018+type@problem+block@d663a33506a5300eda9f\",\"attempt\":1,\"average_grade\":1.0,\"max_grade\":1.0,\"numOfSolutions\":2},{\"page\":\"block-v1:spbu+ACADRU+spring_2018+type@problem+block@dc7011fe554d9785754c\",\"attempt\":1,\"average_grade\":1.0,\"max_grade\":1.0,\"numOfSolutions\":3},{\"page\":\"block-v1:spbu+ACADRU+spring_2018+type@problem+block@dcc007efb03f751b8490\",\"attempt\":1,\"average_grade\":1.0,\"max_grade\":1.0,\"numOfSolutions\":2},{\"page\":\"block-v1:spbu+ACADRU+spring_2018+type@problem+block@de8d6f3b17e5e2e7f47d\",\"attempt\":1,\"average_grade\":1.0,\"max_grade\":1.0,\"numOfSolutions\":3},{\"page\":\"block-v1:spbu+ACADRU+spring_2018+type@problem+block@f0a0bf9d8c7136f0eeb1\",\"attempt\":1,\"average_grade\":1.0,\"max_grade\":1.0,\"numOfSolutions\":1},{\"page\":\"block-v1:spbu+ACADRU+spring_2018+type@problem+block@f135cb95fd755b863197\",\"attempt\":1,\"average_grade\":0.6666666667,\"max_grade\":1.0,\"numOfSolutions\":3},{\"page\":\"block-v1:spbu+ACADRU+spring_2018+type@problem+block@f2287b91baaa4a55a19c93598d565468\",\"attempt\":1,\"average_grade\":1.0,\"max_grade\":1.0,\"numOfSolutions\":1},{\"page\":\"block-v1:spbu+ACADRU+spring_2018+type@problem+block@f2287b91baaa4a55a19c93598d565468\",\"attempt\":1,\"average_grade\":2.5714285714,\"max_grade\":4.0,\"numOfSolutions\":7},{\"page\":\"block-v1:spbu+ACADRU+spring_2018+type@problem+block@f2287b91baaa4a55a19c93598d565468\",\"attempt\":2,\"average_grade\":3.2857142857,\"max_grade\":4.0,\"numOfSolutions\":7},{\"page\":\"block-v1:spbu+ACADRU+spring_2018+type@problem+block@f4eb24eebc15b720d7bf\",\"attempt\":3,\"average_grade\":3.25,\"max_grade\":4.0,\"numOfSolutions\":4},{\"page\":\"block-v1:spbu+ACADRU+spring_2018+type@problem+block@f4f940b885b34be8b6680ed248ac20dc\",\"attempt\":1,\"average_grade\":1.0,\"max_grade\":1.0,\"numOfSolutions\":2},{\"page\":\"block-v1:spbu+ACADRU+spring_2018+type@problem+block@f4f940b885b34be8b6680ed248ac20dc\",\"attempt\":1,\"average_grade\":2.4210526316,\"max_grade\":4.0,\"numOfSolutions\":19},{\"page\":\"block-v1:spbu+ACADRU+spring_2018+type@problem+block@f4f940b885b34be8b6680ed248ac20dc\",\"attempt\":2,\"average_grade\":3.2,\"max_grade\":4.0,\"numOfSolutions\":10},{\"page\":\"block-v1:spbu+ACADRU+spring_2018+type@problem+block@f54beb567aadf82976d6\",\"attempt\":3,\"average_grade\":3.8571428571,\"max_grade\":4.0,\"numOfSolutions\":7},{\"page\":\"block-v1:spbu+ACADRU+spring_2018+type@problem+block@f56e81984bedf5a05ef2\",\"attempt\":1,\"average_grade\":1.0,\"max_grade\":1.0,\"numOfSolutions\":3},{\"page\":\"block-v1:spbu+ACADRU+spring_2018+type@problem+block@f578523932eb18d4eadd\",\"attempt\":1,\"average_grade\":0.0,\"max_grade\":1.0,\"numOfSolutions\":1},{\"page\":\"block-v1:spbu+ACADRU+spring_2018+type@problem+block@f5f3991e694e46f5a0dd8e56418a0bc9\",\"attempt\":1,\"average_grade\":0.0,\"max_grade\":1.0,\"numOfSolutions\":1},{\"page\":\"block-v1:spbu+ACADRU+spring_2018+type@problem+block@f5f3991e694e46f5a0dd8e56418a0bc9\",\"attempt\":1,\"average_grade\":5.4615384615,\"max_grade\":8.0,\"numOfSolutions\":13},{\"page\":\"block-v1:spbu+ACADRU+spring_2018+type@problem+block@f830846f1e2ff676fee3\",\"attempt\":2,\"average_grade\":6.1818181818,\"max_grade\":8.0,\"numOfSolutions\":11},{\"page\":\"block-v1:spbu+ACADRU+spring_2018+type@problem+block@fa818fb755a291f6c974\",\"attempt\":1,\"average_grade\":1.0,\"max_grade\":1.0,\"numOfSolutions\":3}]\n"
     ]
    }
   ],
   "source": [
    "print(average)"
   ]
  },
  {
   "cell_type": "markdown",
   "metadata": {},
   "source": [
    "### модуль тестов, пункт 1 с: (процент правильных ответов на вопрос)"
   ]
  },
  {
   "cell_type": "code",
   "execution_count": null,
   "metadata": {},
   "outputs": [],
   "source": [
    "#parsing of questions string in two columns: question and result\n",
    "listForQuestions=pd.DataFrame(columns=('question','attempt','user_id','result'))\n",
    "\n",
    "for rowCounter in range(df.shape[0]):\n",
    "    currentAttempt=df.attempts[rowCounter]\n",
    "    currentUser=df.user_id[rowCounter]\n",
    "    row=(df.questions[rowCounter][1:-1]).split(',')\n",
    "    for cellRow in row:\n",
    "        tmprow=cellRow.split(':')\n",
    "        if tmprow[1]=='True':\n",
    "            listForQuestions=listForQuestions.append({'question':tmprow[0],'attempt':currentAttempt,'user_id':currentUser,'result':1}, ignore_index=True)\n",
    "        else:\n",
    "            listForQuestions=listForQuestions.append({'question':tmprow[0],'attempt':currentAttempt,'user_id':currentUser,'result':0}, ignore_index=True)\n"
   ]
  },
  {
   "cell_type": "code",
   "execution_count": null,
   "metadata": {},
   "outputs": [],
   "source": [
    "listForQuestions['question'] = listForQuestions['question'].map(str.strip)\n",
    "listForQuestions=listForQuestions.sort_values(by=['question','attempt','user_id'])"
   ]
  },
  {
   "cell_type": "code",
   "execution_count": null,
   "metadata": {},
   "outputs": [],
   "source": [
    "percentage=pd.DataFrame(columns=('question','attempt','numOfAnswers','percentageOfRightAnswers'))"
   ]
  },
  {
   "cell_type": "code",
   "execution_count": null,
   "metadata": {},
   "outputs": [],
   "source": [
    "prevQuestion=''\n",
    "for row in listForQuestions.itertuples():\n",
    "    if not prevQuestion:\n",
    "        prevQuestion=row.question\n",
    "        prevAttempt=row.attempt\n",
    "        tmpUsersList=pd.DataFrame(columns=('user_id','result'))   \n",
    "    \n",
    "    if prevQuestion==row.question :        \n",
    "        if prevAttempt==row.attempt :\n",
    "            if row.attempt==1:\n",
    "                tmpUsersList=tmpUsersList.append({'user_id':row.user_id,'result':row.result}, ignore_index=True)\n",
    "            else:\n",
    "                for user in tmpUsersList:\n",
    "                    if user==row.user_id:\n",
    "                        user.result=row.result #updating result for new attempt\n",
    "        else:\n",
    "            percentage=percentage.append({'question':prevQuestion,'attempt':prevAttempt,'numOfAnswers':tmpUsersList.shape[0],'percentageOfRightAnswers':100*(((tmpUsersList.result).sum())/tmpUsersList.shape[0])},ignore_index=True)            \n",
    "            prevAttempt=row.attempt\n",
    "    else:        \n",
    "        percentage=percentage.append({'question':prevQuestion,'attempt':prevAttempt,'numOfAnswers':tmpUsersList.shape[0],'percentageOfRightAnswers':100*(((tmpUsersList.result).sum())/tmpUsersList.shape[0])},ignore_index=True)\n",
    "        tmpUsersList=pd.DataFrame(columns=('user_id','result')) \n",
    "        tmpUsersList=tmpUsersList.append({'user_id':row.user_id,'result':row.result}, ignore_index=True)\n",
    "        prevQuestion=row.question"
   ]
  },
  {
   "cell_type": "code",
   "execution_count": null,
   "metadata": {},
   "outputs": [],
   "source": [
    "print(percentage)"
   ]
  },
  {
   "cell_type": "code",
   "execution_count": null,
   "metadata": {},
   "outputs": [],
   "source": [
    "percentage=percentage.to_json(orient='records')"
   ]
  },
  {
   "cell_type": "code",
   "execution_count": null,
   "metadata": {},
   "outputs": [],
   "source": [
    "print(percentage)"
   ]
  }
 ],
 "metadata": {
  "kernelspec": {
   "display_name": "Python 3",
   "language": "python",
   "name": "python3"
  },
  "language_info": {
   "codemirror_mode": {
    "name": "ipython",
    "version": 3
   },
   "file_extension": ".py",
   "mimetype": "text/x-python",
   "name": "python",
   "nbconvert_exporter": "python",
   "pygments_lexer": "ipython3",
   "version": "3.6.6"
  }
 },
 "nbformat": 4,
 "nbformat_minor": 2
}
