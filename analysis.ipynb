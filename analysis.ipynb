{
 "cells": [
  {
   "cell_type": "code",
   "execution_count": 2,
   "metadata": {},
   "outputs": [],
   "source": [
    "import pandas as pd\n",
    "import numpy as np\n",
    "\n",
    "from preprocessing.logParser import openLogs\n",
    "from content.video import Video"
   ]
  },
  {
   "cell_type": "code",
   "execution_count": 3,
   "metadata": {},
   "outputs": [],
   "source": [
    "cursor = openLogs('logs/spbu_ACADRU_spring_2018-TL')"
   ]
  },
  {
   "cell_type": "code",
   "execution_count": 5,
   "metadata": {},
   "outputs": [],
   "source": [
    "def get_videos_pages():\n",
    "    \"\"\"get the set of pages y load_video event\"\"\"\n",
    "    \n",
    "    request = \"\"\"\n",
    "            select *\n",
    "            from load_video\n",
    "            \"\"\"\n",
    "    cursor.execute(request)\n",
    "    data = cursor.fetchall()\n",
    "    \n",
    "    columns_names = []\n",
    "    for i in cursor.description[:]:\n",
    "        columns_names.append(i[0])\n",
    "    \n",
    "    df = pd.DataFrame(data=data, columns=columns_names)\n",
    "    \n",
    "    pages = set()\n",
    "    for page in df.page:\n",
    "        pages.add(page)\n",
    "    return pages"
   ]
  },
  {
   "cell_type": "code",
   "execution_count": 6,
   "metadata": {},
   "outputs": [],
   "source": [
    "def check_video(page):\n",
    "    video_events = [\"hide_transcript\", \"pause_video\",\n",
    "                    \"play_video\", \"seek_video\",\n",
    "                    \"show_transcript\", \"speed_change_video\", \"stop_video\",\n",
    "                    \"video_hide_cc_menu\", \"video_show_cc_menu\"]\n",
    "\n",
    "    for i in video_events:\n",
    "        request = \"\"\"\n",
    "                    select *\n",
    "                    from {}\n",
    "                    where page = \"{}\"\n",
    "                    \"\"\".format(i, page)\n",
    "        cursor.execute(request)\n",
    "        data = cursor.fetchall()\n",
    "        if data : return True\n",
    "    return False"
   ]
  },
  {
   "cell_type": "markdown",
   "metadata": {},
   "source": [
    "# Video review"
   ]
  },
  {
   "cell_type": "code",
   "execution_count": 30,
   "metadata": {
    "scrolled": false
   },
   "outputs": [],
   "source": [
    "def get_video_review():\n",
    "    videos = []\n",
    "    for page in get_videos_pages():    \n",
    "        # get length by stop_video event\n",
    "        request = \"\"\"\n",
    "                select max(video_time)\n",
    "                from stop_video\n",
    "                where page = \"{}\"\n",
    "                \"\"\".format(page)\n",
    "        cursor.execute(request)\n",
    "        length = cursor.fetchall()[0]\n",
    "        length = length[0]\n",
    "        if length == None:  \n",
    "            # todo: make handler\n",
    "            pass\n",
    "        else:\n",
    "            # todo: intervals_number\n",
    "            intervals_number = 50\n",
    "            review_intervals = np.zeros(shape=(intervals_number,))\n",
    "            step = length / intervals_number\n",
    "\n",
    "            request = \"\"\"\n",
    "                    select video_old_time, video_new_time\n",
    "                    from seek_video\n",
    "                    where page = \"{}\"\n",
    "                    \"\"\".format(page)\n",
    "            cursor.execute(request)\n",
    "            for video_old_time, video_new_time in cursor.fetchall():\n",
    "                begin = int(video_new_time / step)\n",
    "                end = int(video_old_time / step) + 1\n",
    "                for i in range(begin, end):\n",
    "                    review_intervals[i] += 1\n",
    "\n",
    "            video = Video(page, length, intervals_number, review_intervals)\n",
    "            videos.append(video)\n",
    "    return videos"
   ]
  },
  {
   "cell_type": "code",
   "execution_count": 31,
   "metadata": {},
   "outputs": [
    {
     "data": {
      "image/png": "[encoded data removed]",
      "text/plain": [
       "<Figure size 432x288 with 1 Axes>"
      ]
     },
     "metadata": {
      "needs_background": "light"
     },
     "output_type": "display_data"
    }
   ],
   "source": [
    "import matplotlib.pyplot as plt\n",
    "\n",
    "videos = get_video_review()\n",
    "video = videos[8]\n",
    "plt.plot(np.linspace(0, video.length, video.intervals_number), video.review_intervals)\n",
    "plt.show()"
   ]
  },
  {
   "cell_type": "markdown",
   "metadata": {},
   "source": [
    "# What part of video was watched"
   ]
  },
  {
   "cell_type": "code",
   "execution_count": null,
   "metadata": {},
   "outputs": [],
   "source": [
    "for video in videos:\n",
    "    request = \"\"\"\n",
    "                select video_old_time, video_new_time\n",
    "                from seek_video\n",
    "                where page = \"{}\"\n",
    "                \"\"\".format(video.page)\n",
    "    cursor.execute(request)\n",
    "    data = cursor.fetchall()\n",
    "    "
   ]
  }
 ],
 "metadata": {
  "kernelspec": {
   "display_name": "Python 3",
   "language": "python",
   "name": "python3"
  },
  "language_info": {
   "codemirror_mode": {
    "name": "ipython",
    "version": 3
   },
   "file_extension": ".py",
   "mimetype": "text/x-python",
   "name": "python",
   "nbconvert_exporter": "python",
   "pygments_lexer": "ipython3",
   "version": "3.6.6"
  }
 },
 "nbformat": 4,
 "nbformat_minor": 2
}
