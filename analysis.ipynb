{
 "cells": [
  {
   "cell_type": "code",
   "execution_count": 1,
   "metadata": {},
   "outputs": [
    {
     "ename": "ImportError",
     "evalue": "cannot import name 'Video'",
     "output_type": "error",
     "traceback": [
      "\u001b[0;31m---------------------------------------------------------------------------\u001b[0m",
      "\u001b[0;31mImportError\u001b[0m                               Traceback (most recent call last)",
      "\u001b[0;32m<ipython-input-1-8fd5542fbf19>\u001b[0m in \u001b[0;36m<module>\u001b[0;34m()\u001b[0m\n\u001b[1;32m      4\u001b[0m \u001b[0;34m\u001b[0m\u001b[0m\n\u001b[1;32m      5\u001b[0m \u001b[0;32mfrom\u001b[0m \u001b[0mpreprocessing\u001b[0m\u001b[0;34m.\u001b[0m\u001b[0mlogParser\u001b[0m \u001b[0;32mimport\u001b[0m \u001b[0mopenLogs\u001b[0m\u001b[0;34m\u001b[0m\u001b[0m\n\u001b[0;32m----> 6\u001b[0;31m \u001b[0;32mfrom\u001b[0m \u001b[0mcontent\u001b[0m\u001b[0;34m.\u001b[0m\u001b[0mvideo\u001b[0m \u001b[0;32mimport\u001b[0m \u001b[0mVideo\u001b[0m\u001b[0;34m\u001b[0m\u001b[0m\n\u001b[0m",
      "\u001b[0;31mImportError\u001b[0m: cannot import name 'Video'"
     ]
    }
   ],
   "source": [
    "import pandas as pd\n",
    "import numpy as np\n",
    "import matplotlib.pyplot as plt\n",
    "\n",
    "from preprocessing.logParser import openLogs\n",
    "from content.video import Video"
   ]
  },
  {
   "cell_type": "code",
   "execution_count": 5,
   "metadata": {},
   "outputs": [],
   "source": [
    "cursor = openLogs('logs/spbu_ACADRU_spring_2018-TL')"
   ]
  },
  {
   "cell_type": "code",
   "execution_count": 224,
   "metadata": {},
   "outputs": [
    {
     "data": {
      "text/html": [
       "<div>\n",
       "<style scoped>\n",
       "    .dataframe tbody tr th:only-of-type {\n",
       "        vertical-align: middle;\n",
       "    }\n",
       "\n",
       "    .dataframe tbody tr th {\n",
       "        vertical-align: top;\n",
       "    }\n",
       "\n",
       "    .dataframe thead th {\n",
       "        text-align: right;\n",
       "    }\n",
       "</style>\n",
       "<table border=\"1\" class=\"dataframe\">\n",
       "  <thead>\n",
       "    <tr style=\"text-align: right;\">\n",
       "      <th></th>\n",
       "      <th>user_id</th>\n",
       "      <th>course_name</th>\n",
       "      <th>execute_time</th>\n",
       "      <th>page</th>\n",
       "      <th>video_time</th>\n",
       "    </tr>\n",
       "  </thead>\n",
       "  <tbody>\n",
       "    <tr>\n",
       "      <th>0</th>\n",
       "      <td>124086</td>\n",
       "      <td>course-v1:spbu+ACADRU+spring_2018</td>\n",
       "      <td>2018-03-31T16:02:07.717922+00:00</td>\n",
       "      <td>https://courses.openedu.ru/courses/course-v1:s...</td>\n",
       "      <td>0.0</td>\n",
       "    </tr>\n",
       "  </tbody>\n",
       "</table>\n",
       "</div>"
      ],
      "text/plain": [
       "   user_id                        course_name  \\\n",
       "0   124086  course-v1:spbu+ACADRU+spring_2018   \n",
       "\n",
       "                       execute_time  \\\n",
       "0  2018-03-31T16:02:07.717922+00:00   \n",
       "\n",
       "                                                page  video_time  \n",
       "0  https://courses.openedu.ru/courses/course-v1:s...         0.0  "
      ]
     },
     "execution_count": 224,
     "metadata": {},
     "output_type": "execute_result"
    }
   ],
   "source": [
    "# test\n",
    "\n",
    "request = \"\"\"\n",
    "        select *\n",
    "        from play_video\n",
    "        where user_id = 124086\n",
    "        and page = \"{}\"\n",
    "        \"\"\".format(\"https://courses.openedu.ru/courses/course-v1:spbu+ACADRU+spring_2018/courseware/b434df438c2045eba63afc089d64b3de/244a81ebf8a64b609cd8587bbe18edc5/\")\n",
    "cursor.execute(request)\n",
    "data = cursor.fetchall()\n",
    "\n",
    "columns_names = []\n",
    "for i in cursor.description[:]:\n",
    "    columns_names.append(i[0])\n",
    "\n",
    "df = pd.DataFrame(data=data, columns=columns_names)\n",
    "df"
   ]
  },
  {
   "cell_type": "code",
   "execution_count": 2,
   "metadata": {},
   "outputs": [],
   "source": [
    "def check_video(page):\n",
    "    video_events = [\"hide_transcript\", \"pause_video\",\n",
    "                    \"play_video\", \"seek_video\",\n",
    "                    \"show_transcript\", \"speed_change_video\", \"stop_video\",\n",
    "                    \"video_hide_cc_menu\", \"video_show_cc_menu\"]\n",
    "\n",
    "    for i in video_events:\n",
    "        request = \"\"\"\n",
    "                    select *\n",
    "                    from {}\n",
    "                    where page = \"{}\"\n",
    "                    \"\"\".format(i, page)\n",
    "        cursor.execute(request)\n",
    "        data = cursor.fetchall()\n",
    "        if data : return True\n",
    "    return False"
   ]
  },
  {
   "cell_type": "markdown",
   "metadata": {},
   "source": [
    "# Video review"
   ]
  },
  {
   "cell_type": "code",
   "execution_count": 6,
   "metadata": {},
   "outputs": [
    {
     "data": {
      "image/png": "[encoded data removed]",
      "text/plain": [
       "<Figure size 432x288 with 1 Axes>"
      ]
     },
     "metadata": {
      "needs_background": "light"
     },
     "output_type": "display_data"
    }
   ],
   "source": [
    "from content.video.video_review import get_video_review\n",
    "\n",
    "videos = get_video_review(cursor)\n",
    "video = videos[9]\n",
    "plt.plot(np.linspace(0, video.length, video.intervals_number), video.review_intervals)\n",
    "plt.show()"
   ]
  },
  {
   "cell_type": "markdown",
   "metadata": {},
   "source": [
    "# What part of video was watched"
   ]
  },
  {
   "cell_type": "code",
   "execution_count": 7,
   "metadata": {},
   "outputs": [],
   "source": [
    "from content.video_watched_percent import set_watched_percent\n",
    "\n",
    "set_watched_percent(cursor, videos)"
   ]
  },
  {
   "cell_type": "markdown",
   "metadata": {},
   "source": [
    "# Output"
   ]
  },
  {
   "cell_type": "code",
   "execution_count": 1,
   "metadata": {},
   "outputs": [],
   "source": [
    "import json\n",
    "import matplotlib.pyplot as plt\n",
    "import numpy as np\n",
    "\n",
    "from preprocessing.logParser import openLogs\n",
    "\n",
    "from content.video_review import get_video_review\n",
    "from content.video_watched_percent import set_watched_percent\n",
    "from content.video import Video\n",
    "\n",
    "if __name__ == '__main__':\n",
    "\n",
    "    cursor = openLogs('logs/spbu_ACADRU_spring_2018-TL')\n",
    "\n",
    "    videos = get_video_review(cursor)\n",
    "    set_watched_percent(cursor, videos)"
   ]
  },
  {
   "cell_type": "code",
   "execution_count": 6,
   "metadata": {},
   "outputs": [
    {
     "data": {
      "text/plain": [
       "'https://courses.openedu.ru/courses/course-v1:spbu+ACADRU+spring_2018/courseware/7f4d3d8d4b1a4e4b853deb4325167221/19dab2595da548c5b533976144c5685e/'"
      ]
     },
     "execution_count": 6,
     "metadata": {},
     "output_type": "execute_result"
    }
   ],
   "source": [
    "videos[9].page"
   ]
  }
 ],
 "metadata": {
  "kernelspec": {
   "display_name": "Python 3",
   "language": "python",
   "name": "python3"
  },
  "language_info": {
   "codemirror_mode": {
    "name": "ipython",
    "version": 3
   },
   "file_extension": ".py",
   "mimetype": "text/x-python",
   "name": "python",
   "nbconvert_exporter": "python",
   "pygments_lexer": "ipython3",
   "version": "3.6.6"
  }
 },
 "nbformat": 4,
 "nbformat_minor": 2
}
