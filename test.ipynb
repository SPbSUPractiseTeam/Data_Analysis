{
 "cells": [
  {
   "cell_type": "code",
   "execution_count": 119,
   "metadata": {},
   "outputs": [],
   "source": [
    "import pandas as pd"
   ]
  },
  {
   "cell_type": "code",
   "execution_count": 120,
   "metadata": {},
   "outputs": [],
   "source": [
    "from preprocessing.logParser import openLogs\n",
    "from content.video import Video"
   ]
  },
  {
   "cell_type": "code",
   "execution_count": 121,
   "metadata": {},
   "outputs": [],
   "source": [
    "cursor = openLogs('logs/spbu_ACADRU_spring_2018-TL')"
   ]
  },
  {
   "cell_type": "code",
   "execution_count": 122,
   "metadata": {},
   "outputs": [
    {
     "data": {
      "text/html": [
       "<div>\n",
       "<style scoped>\n",
       "    .dataframe tbody tr th:only-of-type {\n",
       "        vertical-align: middle;\n",
       "    }\n",
       "\n",
       "    .dataframe tbody tr th {\n",
       "        vertical-align: top;\n",
       "    }\n",
       "\n",
       "    .dataframe thead th {\n",
       "        text-align: right;\n",
       "    }\n",
       "</style>\n",
       "<table border=\"1\" class=\"dataframe\">\n",
       "  <thead>\n",
       "    <tr style=\"text-align: right;\">\n",
       "      <th></th>\n",
       "      <th>user_id</th>\n",
       "      <th>course_name</th>\n",
       "      <th>execute_time</th>\n",
       "      <th>page</th>\n",
       "      <th>video_time</th>\n",
       "    </tr>\n",
       "  </thead>\n",
       "  <tbody>\n",
       "    <tr>\n",
       "      <th>0</th>\n",
       "      <td>592408</td>\n",
       "      <td>course-v1:spbu+ACADRU+spring_2018</td>\n",
       "      <td>2018-03-01T06:11:17.384343+00:00</td>\n",
       "      <td>https://courses.openedu.ru/courses/course-v1:s...</td>\n",
       "      <td>0.008867</td>\n",
       "    </tr>\n",
       "    <tr>\n",
       "      <th>1</th>\n",
       "      <td>592408</td>\n",
       "      <td>course-v1:spbu+ACADRU+spring_2018</td>\n",
       "      <td>2018-03-01T06:11:40.543950+00:00</td>\n",
       "      <td>https://courses.openedu.ru/courses/course-v1:s...</td>\n",
       "      <td>22.540000</td>\n",
       "    </tr>\n",
       "    <tr>\n",
       "      <th>2</th>\n",
       "      <td>592408</td>\n",
       "      <td>course-v1:spbu+ACADRU+spring_2018</td>\n",
       "      <td>2018-03-01T06:18:37.350351+00:00</td>\n",
       "      <td>https://courses.openedu.ru/courses/course-v1:s...</td>\n",
       "      <td>0.000000</td>\n",
       "    </tr>\n",
       "    <tr>\n",
       "      <th>3</th>\n",
       "      <td>592408</td>\n",
       "      <td>course-v1:spbu+ACADRU+spring_2018</td>\n",
       "      <td>2018-03-01T06:18:46.876583+00:00</td>\n",
       "      <td>https://courses.openedu.ru/courses/course-v1:s...</td>\n",
       "      <td>8.960000</td>\n",
       "    </tr>\n",
       "    <tr>\n",
       "      <th>4</th>\n",
       "      <td>592408</td>\n",
       "      <td>course-v1:spbu+ACADRU+spring_2018</td>\n",
       "      <td>2018-03-01T06:18:49.363691+00:00</td>\n",
       "      <td>https://courses.openedu.ru/courses/course-v1:s...</td>\n",
       "      <td>36.000000</td>\n",
       "    </tr>\n",
       "  </tbody>\n",
       "</table>\n",
       "</div>"
      ],
      "text/plain": [
       "   user_id                        course_name  \\\n",
       "0   592408  course-v1:spbu+ACADRU+spring_2018   \n",
       "1   592408  course-v1:spbu+ACADRU+spring_2018   \n",
       "2   592408  course-v1:spbu+ACADRU+spring_2018   \n",
       "3   592408  course-v1:spbu+ACADRU+spring_2018   \n",
       "4   592408  course-v1:spbu+ACADRU+spring_2018   \n",
       "\n",
       "                       execute_time  \\\n",
       "0  2018-03-01T06:11:17.384343+00:00   \n",
       "1  2018-03-01T06:11:40.543950+00:00   \n",
       "2  2018-03-01T06:18:37.350351+00:00   \n",
       "3  2018-03-01T06:18:46.876583+00:00   \n",
       "4  2018-03-01T06:18:49.363691+00:00   \n",
       "\n",
       "                                                page  video_time  \n",
       "0  https://courses.openedu.ru/courses/course-v1:s...    0.008867  \n",
       "1  https://courses.openedu.ru/courses/course-v1:s...   22.540000  \n",
       "2  https://courses.openedu.ru/courses/course-v1:s...    0.000000  \n",
       "3  https://courses.openedu.ru/courses/course-v1:s...    8.960000  \n",
       "4  https://courses.openedu.ru/courses/course-v1:s...   36.000000  "
      ]
     },
     "execution_count": 122,
     "metadata": {},
     "output_type": "execute_result"
    }
   ],
   "source": [
    "request = \"\"\"\n",
    "    select *\n",
    "    from play_video\n",
    "\"\"\"\n",
    "\n",
    "cursor.execute(request)\n",
    "data = cursor.fetchall()\n",
    "\n",
    "columns_names = []\n",
    "for i in cursor.description[:]:\n",
    "    columns_names.append(i[0])\n",
    "\n",
    "df = pd.DataFrame(data=data, columns=columns_names)\n",
    "df.head(5)"
   ]
  },
  {
   "cell_type": "code",
   "execution_count": 123,
   "metadata": {},
   "outputs": [],
   "source": [
    "def get_videos_pages():\n",
    "    \"\"\"get the set of pages y load_video event\"\"\"\n",
    "    \n",
    "    request = \"\"\"\n",
    "            select *\n",
    "            from load_video\n",
    "            \"\"\"\n",
    "    cursor.execute(request)\n",
    "    data = cursor.fetchall()\n",
    "    \n",
    "    columns_names = []\n",
    "    for i in cursor.description[:]:\n",
    "        columns_names.append(i[0])\n",
    "    \n",
    "    df = pd.DataFrame(data=data, columns=columns_names)\n",
    "    \n",
    "    pages = set()\n",
    "    for page in df.page:\n",
    "        pages.add(page)\n",
    "    return pages"
   ]
  },
  {
   "cell_type": "code",
   "execution_count": 124,
   "metadata": {},
   "outputs": [],
   "source": [
    "def check(page):\n",
    "    video_events = [\"hide_transcript\", \"pause_video\",\n",
    "                    \"play_video\", \"seek_video\",\n",
    "                    \"show_transcript\", \"speed_change_video\", \"stop_video\",\n",
    "                    \"video_hide_cc_menu\", \"video_show_cc_menu\"]\n",
    "\n",
    "    for i in video_events:\n",
    "        request = \"\"\"\n",
    "                    select *\n",
    "                    from {}\n",
    "                    where page = \"{}\"\n",
    "                    \"\"\".format(i, page)\n",
    "        cursor.execute(request)\n",
    "        data = cursor.fetchall()\n",
    "        if data : return True\n",
    "    return False"
   ]
  },
  {
   "cell_type": "code",
   "execution_count": 125,
   "metadata": {
    "scrolled": false
   },
   "outputs": [
    {
     "name": "stdout",
     "output_type": "stream",
     "text": [
      "https://courses.openedu.ru/courses/course-v1:spbu+ACADRU+spring_2018/courseware/b434df438c2045eba63afc089d64b3de/64a281fe82e642dd9c9cef40b8e788ec/?child=first\n",
      "https://courses.openedu.ru/courses/course-v1:spbu+ACADRU+spring_2018/courseware/3a57e4c7f4b1485f940ed66ddcd02039/f1e6ed753f2f49abaf573baee5a39326/?child=first\n",
      "https://courses.openedu.ru/courses/course-v1:spbu+ACADRU+spring_2018/courseware/30de86d10c05431988f0934a2cb36337/f20cf3906ad14c269c53a65c9fb49ca6/?child=last\n",
      "https://courses.openedu.ru/courses/course-v1:spbu+ACADRU+spring_2018/courseware/db2ef2a59bf443e3a0c24188e2442511/1282161218d447858cfac1ca9bad94f0/?child=first\n",
      "https://courses.openedu.ru/courses/course-v1:spbu+ACADRU+spring_2018/courseware/db2ef2a59bf443e3a0c24188e2442511/d331d71c92f34c28bb1793382368f8b8/?child=first\n",
      "https://courses.openedu.ru/courses/course-v1:spbu+ACADRU+spring_2018/courseware/04a2206dce574325be4b853171e3aca1/59e2b73844b046d2ad9f8f6fab021bad/?child=first\n",
      "https://courses.openedu.ru/courses/course-v1:spbu+ACADRU+spring_2018/courseware/db2ef2a59bf443e3a0c24188e2442511/2d09ec9e5c26402e9214f6d1a8699aeb/?child=first\n",
      "https://courses.openedu.ru/courses/course-v1:spbu+ACADRU+spring_2018/courseware/db2ef2a59bf443e3a0c24188e2442511/40b895532e1c45c4b714155088bf12b9/?child=first\n",
      "https://courses.openedu.ru/courses/course-v1:spbu+ACADRU+spring_2018/courseware/db2ef2a59bf443e3a0c24188e2442511/efafd51836be456eab57bddb82ec213c/?child=first\n"
     ]
    }
   ],
   "source": [
    "videos = []\n",
    "for page in get_videos_pages():\n",
    "    video = Video(page)\n",
    "    videos.append(video)\n",
    "    \n",
    "    # get length by stop_video event\n",
    "    request = \"\"\"\n",
    "            select max(video_time)\n",
    "            from stop_video\n",
    "            where page = \"{}\"\n",
    "            \"\"\".format(page)\n",
    "    cursor.execute(request)\n",
    "    length = cursor.fetchall()[0]\n",
    "    length = length[0]\n",
    "    if length == None: \n",
    "        if check(page):\n",
    "            print(page)\n",
    "\n",
    "    request = \"\"\"\n",
    "            select *\n",
    "            from seek_video\n",
    "            where page = \"{}\"\n",
    "            \"\"\".format(page)\n",
    "    cursor.execute(request)\n",
    "    data = cursor.fetchall()\n",
    "    columns_names = []\n",
    "    for i in cursor.description[:]:\n",
    "        columns_names.append(i[0])\n",
    "    df = pd.DataFrame(data=data, columns=columns_names)\n",
    "    df[df.video_new_time < df.video_old_time]"
   ]
  }
 ],
 "metadata": {
  "kernelspec": {
   "display_name": "Python 3",
   "language": "python",
   "name": "python3"
  },
  "language_info": {
   "codemirror_mode": {
    "name": "ipython",
    "version": 3
   },
   "file_extension": ".py",
   "mimetype": "text/x-python",
   "name": "python",
   "nbconvert_exporter": "python",
   "pygments_lexer": "ipython3",
   "version": "3.6.6"
  }
 },
 "nbformat": 4,
 "nbformat_minor": 2
}
